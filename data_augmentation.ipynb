{
 "cells": [
  {
   "cell_type": "code",
   "execution_count": 1,
   "metadata": {},
   "outputs": [],
   "source": [
    "import numpy  as np \r\n",
    "import pandas as pd\r\n",
    "from processing import *\r\n",
    "from scipy.stats import truncnorm\r\n",
    "from fastai.tabular.all import *\r\n",
    "import matplotlib as plt"
   ]
  },
  {
   "cell_type": "code",
   "execution_count": 2,
   "metadata": {},
   "outputs": [],
   "source": [
    "def get_truncated_normal(mean=265, sd=265, low=0, upp=500):\r\n",
    "    return truncnorm((low - mean) / sd, (upp - mean) / sd, loc=mean, scale=sd)\r\n",
    "\r\n",
    "def find_nearest(array, value):\r\n",
    "    array = np.asarray(array)\r\n",
    "    idx = (np.abs(array - value)).argmin()\r\n",
    "    return idx"
   ]
  },
  {
   "cell_type": "code",
   "execution_count": 3,
   "metadata": {},
   "outputs": [],
   "source": [
    "fs = 256\r\n",
    "interval = 20\r\n",
    "k = 10\r\n",
    "\r\n",
    "filenames = ['avatar1', 'avengers1', 'bbc1', 'bear1', 'bighero1', 'creed1', 'edgeoftmr11', 'gunviolence1', 'ironman1', 'joe1', 'lex1', 'vox1']\r\n",
    "files = [pd.read_csv(('datasets/{}.csvprocessed.csv').format(name)) for name in filenames]\r\n",
    "\r\n",
    "data_sets = pd.concat(files, ignore_index=True).dropna()"
   ]
  },
  {
   "cell_type": "code",
   "execution_count": 4,
   "metadata": {},
   "outputs": [],
   "source": [
    "labels = data_sets[\"Interest\"]\r\n",
    "    \r\n",
    "labels_norm = [1 if x == 4 or x == 5 else 0 for x in labels]\r\n",
    "\r\n",
    "data_sets[\"Interest\"] = labels_norm\r\n",
    "\r\n",
    "interested = np.array(data_sets[data_sets['Interest'] == 1])\r\n",
    "uninterested = np.array(data_sets[data_sets['Interest'] == 0])\r\n",
    "\r\n",
    "# print(int(len(interested)/(fs*interval))*fs*interval)\r\n",
    "# print(int(len(interested)/(fs*interval))) #53\r\n",
    "# print(int(len(uninterested)/(fs*interval))) #41\r\n"
   ]
  },
  {
   "cell_type": "code",
   "execution_count": 5,
   "metadata": {},
   "outputs": [
    {
     "name": "stdout",
     "output_type": "stream",
     "text": [
      "(530, 512, 4)\n",
      "52\n"
     ]
    }
   ],
   "source": [
    "# interestedN = np.array(np.array_split(interested[:int(len(interested)/(fs*interval))*fs*interval], int((len(interested)/(fs*interval))), axis=0))\r\n",
    "interestedN1 = np.array(np.array_split(np.array(np.array_split(interested[:int(len(interested)/(fs*interval))*fs*interval], int((len(interested)/(fs*interval))), axis=0)), k, axis=1)).reshape(10*-1, 512, 6)[:, :, 1:5]\r\n",
    "\r\n",
    "sortedN1 = interestedN1[np.argsort(interestedN1.reshape(-1, 512*4).sum(axis=1))]\r\n",
    "\r\n",
    "print(sortedN1.shape)\r\n",
    "\r\n",
    "mean = np.mean(sortedN1.reshape(-1, 512*4))\r\n",
    "std = np.std(sortedN1.reshape(-1, 512*4))\r\n",
    "\r\n",
    "mean_indx = find_nearest(np.mean(sortedN1.reshape(-1, 512*4), axis=1), mean)\r\n",
    "std_indx = find_nearest(np.mean(sortedN1.reshape(-1, 512*4), axis=1), std)\r\n",
    "\r\n",
    "r = get_truncated_normal(mean=mean_indx, sd=int(std_indx/2), low=0, upp=len(sortedN1))\r\n",
    "print(int(r.rvs()))\r\n",
    "\r\n",
    "new_pos_segments = []\r\n",
    "for n in range(500):\r\n",
    "    ind = [interestedN1[int(r.rvs())] for x in range(10)]\r\n",
    "    new_pos_segments.append(np.concatenate(ind, axis=0))\r\n",
    "\r\n",
    "new_pos_segments = np.array(new_pos_segments)\r\n",
    "# print(new_pos_segments.shape)"
   ]
  },
  {
   "cell_type": "code",
   "execution_count": 6,
   "metadata": {},
   "outputs": [
    {
     "name": "stdout",
     "output_type": "stream",
     "text": [
      "(410, 512, 4)\n",
      "6\n"
     ]
    }
   ],
   "source": [
    "uninterestedN1 = np.array(np.array_split(np.array(np.array_split(uninterested[:int(len(uninterested)/(fs*interval))*fs*interval], int((len(uninterested)/(fs*interval))), axis=0)), k, axis=1)).reshape(10*-1, 512, 6)[:, :, 1:5]\r\n",
    "\r\n",
    "sortedUN1 = uninterestedN1[np.argsort(uninterestedN1.reshape(-1, 512*4).sum(axis=1))]\r\n",
    "\r\n",
    "print(sortedUN1.shape)\r\n",
    "\r\n",
    "Umean = np.mean(sortedUN1.reshape(-1, 512*4))\r\n",
    "Ustd = np.std(sortedUN1.reshape(-1, 512*4))\r\n",
    "\r\n",
    "Umean_indx = find_nearest(np.mean(sortedUN1.reshape(-1, 512*4), axis=1), Umean)\r\n",
    "Ustd_indx = find_nearest(np.mean(sortedUN1.reshape(-1, 512*4), axis=1), Ustd)\r\n",
    "\r\n",
    "Ur = get_truncated_normal(mean=Umean_indx, sd=int(Ustd_indx/2), low=0, upp=len(sortedUN1))\r\n",
    "print(int(Ur.rvs()))\r\n",
    "\r\n",
    "\r\n",
    "new_neg_segments = []\r\n",
    "for n in range(500):\r\n",
    "    ind = [uninterestedN1[int(Ur.rvs())] for x in range(10)]\r\n",
    "    new_neg_segments.append(np.concatenate(ind, axis=0))\r\n",
    "\r\n",
    "new_neg_segments = np.array(new_neg_segments)\r\n",
    "# print(new_neg_segments.shape)"
   ]
  },
  {
   "cell_type": "code",
   "execution_count": 7,
   "metadata": {},
   "outputs": [
    {
     "name": "stdout",
     "output_type": "stream",
     "text": [
      "(5120000, 4)\n"
     ]
    }
   ],
   "source": [
    "augmented_batches = np.concatenate((new_neg_segments, new_pos_segments), axis=0).reshape(-1*5120, 4, order='F')\r\n",
    "\r\n",
    "print(augmented_batches.shape)"
   ]
  },
  {
   "cell_type": "code",
   "execution_count": 11,
   "metadata": {},
   "outputs": [
    {
     "name": "stderr",
     "output_type": "stream",
     "text": [
      "  0%|          | 0/4 [00:00<?, ?it/s]"
     ]
    },
    {
     "name": "stdout",
     "output_type": "stream",
     "text": [
      "(5120000, 4)\n"
     ]
    },
    {
     "name": "stderr",
     "output_type": "stream",
     "text": [
      "100%|██████████| 4/4 [00:14<00:00,  3.54s/it]\n",
      "100%|██████████| 1000/1000 [00:11<00:00, 85.17it/s]\n"
     ]
    },
    {
     "name": "stdout",
     "output_type": "stream",
     "text": [
      "(1000, 97)\n"
     ]
    }
   ],
   "source": [
    "labels = np.concatenate((np.zeros(500), np.full(500, 1)))\r\n",
    "# print(labels.shape)\r\n",
    "\r\n",
    "features = PSD(augmented_batches, fs, filtering=True)\r\n",
    "\r\n",
    "# print(features)\r\n",
    "\r\n",
    "normalized = pd.DataFrame(descriptive_stats(features))"
   ]
  },
  {
   "cell_type": "code",
   "execution_count": 40,
   "metadata": {},
   "outputs": [
    {
     "data": {
      "image/png": "[encoded data removed]",
      "text/plain": [
       "<Figure size 432x288 with 1 Axes>"
      ]
     },
     "metadata": {
      "needs_background": "light"
     },
     "output_type": "display_data"
    },
    {
     "data": {
      "image/png": "[encoded data removed]",
      "text/plain": [
       "<Figure size 288x288 with 1 Axes>"
      ]
     },
     "metadata": {
      "needs_background": "light"
     },
     "output_type": "display_data"
    },
    {
     "name": "stdout",
     "output_type": "stream",
     "text": [
      "(1000, 97)\n"
     ]
    }
   ],
   "source": [
    "normalized[\"label\"] = labels\r\n",
    "\r\n",
    "plt.scatter(normalized.iloc[:, 50], normalized.iloc[:, 40], c=normalized.iloc[:, -1], alpha=0.3, cmap='viridis', s=10)\r\n",
    "plt.matshow(normalized.iloc[:, :96].corr())\r\n",
    "plt.show()\r\n",
    "\r\n",
    "print(normalized.shape)"
   ]
  },
  {
   "cell_type": "code",
   "execution_count": null,
   "metadata": {},
   "outputs": [],
   "source": [
    "procs = [Categorify, FillMissing, Normalize]\r\n",
    "dls = TabularDataLoaders.from_df(df = normalized, procs=procs, cont_names=list(normalized.columns)[:-1], \r\n",
    "                                 y_names=\"label\", y_block=CategoryBlock, bs=64)"
   ]
  },
  {
   "cell_type": "code",
   "execution_count": 9,
   "metadata": {},
   "outputs": [],
   "source": [
    "f1_score = F1Score()\r\n",
    "learn = tabular_learner(dls, metrics=[accuracy])\r\n"
   ]
  },
  {
   "cell_type": "code",
   "execution_count": 10,
   "metadata": {},
   "outputs": [
    {
     "data": {
      "text/html": [
       "<table border=\"1\" class=\"dataframe\">\n",
       "  <thead>\n",
       "    <tr style=\"text-align: left;\">\n",
       "      <th>epoch</th>\n",
       "      <th>train_loss</th>\n",
       "      <th>valid_loss</th>\n",
       "      <th>accuracy</th>\n",
       "      <th>time</th>\n",
       "    </tr>\n",
       "  </thead>\n",
       "  <tbody>\n",
       "    <tr>\n",
       "      <td>0</td>\n",
       "      <td>0.733669</td>\n",
       "      <td>0.696128</td>\n",
       "      <td>0.470000</td>\n",
       "      <td>00:00</td>\n",
       "    </tr>\n",
       "    <tr>\n",
       "      <td>1</td>\n",
       "      <td>0.727360</td>\n",
       "      <td>0.709919</td>\n",
       "      <td>0.485000</td>\n",
       "      <td>00:00</td>\n",
       "    </tr>\n",
       "    <tr>\n",
       "      <td>2</td>\n",
       "      <td>0.709354</td>\n",
       "      <td>0.730450</td>\n",
       "      <td>0.445000</td>\n",
       "      <td>00:00</td>\n",
       "    </tr>\n",
       "    <tr>\n",
       "      <td>3</td>\n",
       "      <td>0.690585</td>\n",
       "      <td>0.741675</td>\n",
       "      <td>0.460000</td>\n",
       "      <td>00:00</td>\n",
       "    </tr>\n",
       "    <tr>\n",
       "      <td>4</td>\n",
       "      <td>0.669822</td>\n",
       "      <td>0.769080</td>\n",
       "      <td>0.450000</td>\n",
       "      <td>00:00</td>\n",
       "    </tr>\n",
       "    <tr>\n",
       "      <td>5</td>\n",
       "      <td>0.647714</td>\n",
       "      <td>0.779813</td>\n",
       "      <td>0.460000</td>\n",
       "      <td>00:00</td>\n",
       "    </tr>\n",
       "    <tr>\n",
       "      <td>6</td>\n",
       "      <td>0.634589</td>\n",
       "      <td>0.805680</td>\n",
       "      <td>0.450000</td>\n",
       "      <td>00:00</td>\n",
       "    </tr>\n",
       "    <tr>\n",
       "      <td>7</td>\n",
       "      <td>0.612246</td>\n",
       "      <td>0.820162</td>\n",
       "      <td>0.470000</td>\n",
       "      <td>00:00</td>\n",
       "    </tr>\n",
       "    <tr>\n",
       "      <td>8</td>\n",
       "      <td>0.592004</td>\n",
       "      <td>0.881848</td>\n",
       "      <td>0.440000</td>\n",
       "      <td>00:00</td>\n",
       "    </tr>\n",
       "    <tr>\n",
       "      <td>9</td>\n",
       "      <td>0.569757</td>\n",
       "      <td>0.931046</td>\n",
       "      <td>0.465000</td>\n",
       "      <td>00:00</td>\n",
       "    </tr>\n",
       "    <tr>\n",
       "      <td>10</td>\n",
       "      <td>0.546416</td>\n",
       "      <td>0.843292</td>\n",
       "      <td>0.440000</td>\n",
       "      <td>00:00</td>\n",
       "    </tr>\n",
       "    <tr>\n",
       "      <td>11</td>\n",
       "      <td>0.518987</td>\n",
       "      <td>0.876035</td>\n",
       "      <td>0.465000</td>\n",
       "      <td>00:00</td>\n",
       "    </tr>\n",
       "    <tr>\n",
       "      <td>12</td>\n",
       "      <td>0.492958</td>\n",
       "      <td>0.920022</td>\n",
       "      <td>0.445000</td>\n",
       "      <td>00:00</td>\n",
       "    </tr>\n",
       "    <tr>\n",
       "      <td>13</td>\n",
       "      <td>0.471671</td>\n",
       "      <td>0.978242</td>\n",
       "      <td>0.465000</td>\n",
       "      <td>00:00</td>\n",
       "    </tr>\n",
       "    <tr>\n",
       "      <td>14</td>\n",
       "      <td>0.447461</td>\n",
       "      <td>0.929416</td>\n",
       "      <td>0.435000</td>\n",
       "      <td>00:00</td>\n",
       "    </tr>\n",
       "    <tr>\n",
       "      <td>15</td>\n",
       "      <td>0.418775</td>\n",
       "      <td>1.001805</td>\n",
       "      <td>0.420000</td>\n",
       "      <td>00:00</td>\n",
       "    </tr>\n",
       "    <tr>\n",
       "      <td>16</td>\n",
       "      <td>0.387463</td>\n",
       "      <td>0.965886</td>\n",
       "      <td>0.445000</td>\n",
       "      <td>00:00</td>\n",
       "    </tr>\n",
       "    <tr>\n",
       "      <td>17</td>\n",
       "      <td>0.351958</td>\n",
       "      <td>1.046945</td>\n",
       "      <td>0.490000</td>\n",
       "      <td>00:00</td>\n",
       "    </tr>\n",
       "    <tr>\n",
       "      <td>18</td>\n",
       "      <td>0.323155</td>\n",
       "      <td>1.045412</td>\n",
       "      <td>0.480000</td>\n",
       "      <td>00:00</td>\n",
       "    </tr>\n",
       "    <tr>\n",
       "      <td>19</td>\n",
       "      <td>0.295639</td>\n",
       "      <td>1.029741</td>\n",
       "      <td>0.465000</td>\n",
       "      <td>00:00</td>\n",
       "    </tr>\n",
       "    <tr>\n",
       "      <td>20</td>\n",
       "      <td>0.268856</td>\n",
       "      <td>1.054985</td>\n",
       "      <td>0.425000</td>\n",
       "      <td>00:00</td>\n",
       "    </tr>\n",
       "    <tr>\n",
       "      <td>21</td>\n",
       "      <td>0.246364</td>\n",
       "      <td>1.061690</td>\n",
       "      <td>0.440000</td>\n",
       "      <td>00:00</td>\n",
       "    </tr>\n",
       "    <tr>\n",
       "      <td>22</td>\n",
       "      <td>0.224512</td>\n",
       "      <td>1.090637</td>\n",
       "      <td>0.465000</td>\n",
       "      <td>00:00</td>\n",
       "    </tr>\n",
       "    <tr>\n",
       "      <td>23</td>\n",
       "      <td>0.205606</td>\n",
       "      <td>1.112151</td>\n",
       "      <td>0.440000</td>\n",
       "      <td>00:00</td>\n",
       "    </tr>\n",
       "    <tr>\n",
       "      <td>24</td>\n",
       "      <td>0.189890</td>\n",
       "      <td>1.109764</td>\n",
       "      <td>0.435000</td>\n",
       "      <td>00:00</td>\n",
       "    </tr>\n",
       "    <tr>\n",
       "      <td>25</td>\n",
       "      <td>0.177626</td>\n",
       "      <td>1.122800</td>\n",
       "      <td>0.445000</td>\n",
       "      <td>00:00</td>\n",
       "    </tr>\n",
       "    <tr>\n",
       "      <td>26</td>\n",
       "      <td>0.169410</td>\n",
       "      <td>1.120987</td>\n",
       "      <td>0.440000</td>\n",
       "      <td>00:00</td>\n",
       "    </tr>\n",
       "    <tr>\n",
       "      <td>27</td>\n",
       "      <td>0.159873</td>\n",
       "      <td>1.125362</td>\n",
       "      <td>0.430000</td>\n",
       "      <td>00:00</td>\n",
       "    </tr>\n",
       "    <tr>\n",
       "      <td>28</td>\n",
       "      <td>0.153534</td>\n",
       "      <td>1.133762</td>\n",
       "      <td>0.440000</td>\n",
       "      <td>00:00</td>\n",
       "    </tr>\n",
       "    <tr>\n",
       "      <td>29</td>\n",
       "      <td>0.144794</td>\n",
       "      <td>1.137637</td>\n",
       "      <td>0.450000</td>\n",
       "      <td>00:00</td>\n",
       "    </tr>\n",
       "  </tbody>\n",
       "</table>"
      ],
      "text/plain": [
       "<IPython.core.display.HTML object>"
      ]
     },
     "metadata": {},
     "output_type": "display_data"
    }
   ],
   "source": [
    "learn.fit_one_cycle(30) # cbs=EarlyStoppingCallback(min_delta=0.1, patience=2)\r\n",
    "# learn.recorder.plot_losses()\r\n",
    "# algo = svm_model(normalized, labels)\r\n",
    "# search = random_search_svm(normalized, labels)\r\n",
    "# print(search.best_params_)\r\n"
   ]
  }
 ],
 "metadata": {
  "interpreter": {
   "hash": "980167e7b228e73714837104a7b73144c79cc317075b5eac2b4d7ac7720305e7"
  },
  "kernelspec": {
   "display_name": "Python 3.9.1 64-bit ('base': conda)",
   "name": "python3"
  },
  "language_info": {
   "codemirror_mode": {
    "name": "ipython",
    "version": 3
   },
   "file_extension": ".py",
   "mimetype": "text/x-python",
   "name": "python",
   "nbconvert_exporter": "python",
   "pygments_lexer": "ipython3",
   "version": "3.9.1"
  },
  "orig_nbformat": 4
 },
 "nbformat": 4,
 "nbformat_minor": 2
}